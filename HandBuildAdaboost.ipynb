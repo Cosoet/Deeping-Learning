{
 "cells": [
  {
   "cell_type": "code",
   "execution_count": 1,
   "metadata": {},
   "outputs": [],
   "source": [
    "import numpy as np  \n",
    "import pandas as pd\n",
    "from sklearn import tree\n",
    "import matplotlib.pyplot as plt\n",
    "from sklearn.model_selection import train_test_split\n",
    "from sklearn.metrics import accuracy_score"
   ]
  },
  {
   "cell_type": "code",
   "execution_count": 2,
   "metadata": {},
   "outputs": [
    {
     "data": {
      "text/html": [
       "<div>\n",
       "<style scoped>\n",
       "    .dataframe tbody tr th:only-of-type {\n",
       "        vertical-align: middle;\n",
       "    }\n",
       "\n",
       "    .dataframe tbody tr th {\n",
       "        vertical-align: top;\n",
       "    }\n",
       "\n",
       "    .dataframe thead th {\n",
       "        text-align: right;\n",
       "    }\n",
       "</style>\n",
       "<table border=\"1\" class=\"dataframe\">\n",
       "  <thead>\n",
       "    <tr style=\"text-align: right;\">\n",
       "      <th></th>\n",
       "      <th>0</th>\n",
       "      <th>1</th>\n",
       "      <th>2</th>\n",
       "    </tr>\n",
       "  </thead>\n",
       "  <tbody>\n",
       "    <tr>\n",
       "      <th>0</th>\n",
       "      <td>-1.0</td>\n",
       "      <td>-3.089839</td>\n",
       "      <td>-0.831686</td>\n",
       "    </tr>\n",
       "    <tr>\n",
       "      <th>1</th>\n",
       "      <td>-1.0</td>\n",
       "      <td>-2.980834</td>\n",
       "      <td>-0.159575</td>\n",
       "    </tr>\n",
       "    <tr>\n",
       "      <th>2</th>\n",
       "      <td>-1.0</td>\n",
       "      <td>-2.836057</td>\n",
       "      <td>-0.177081</td>\n",
       "    </tr>\n",
       "    <tr>\n",
       "      <th>3</th>\n",
       "      <td>-1.0</td>\n",
       "      <td>-2.767849</td>\n",
       "      <td>0.096217</td>\n",
       "    </tr>\n",
       "    <tr>\n",
       "      <th>4</th>\n",
       "      <td>-1.0</td>\n",
       "      <td>-2.600350</td>\n",
       "      <td>0.216772</td>\n",
       "    </tr>\n",
       "  </tbody>\n",
       "</table>\n",
       "</div>"
      ],
      "text/plain": [
       "     0         1         2\n",
       "0 -1.0 -3.089839 -0.831686\n",
       "1 -1.0 -2.980834 -0.159575\n",
       "2 -1.0 -2.836057 -0.177081\n",
       "3 -1.0 -2.767849  0.096217\n",
       "4 -1.0 -2.600350  0.216772"
      ]
     },
     "execution_count": 2,
     "metadata": {},
     "output_type": "execute_result"
    }
   ],
   "source": [
    "# load data\n",
    "dataset = pd.read_csv('banana_data.csv', header = None )\n",
    "dataset.head()"
   ]
  },
  {
   "cell_type": "code",
   "execution_count": 3,
   "metadata": {},
   "outputs": [
    {
     "name": "stdout",
     "output_type": "stream",
     "text": [
      "Size of Train Data (5300, 2)\n",
      "Size of Test Data (1060, 2)\n"
     ]
    }
   ],
   "source": [
    "# split data to train and test data\n",
    "X_Data = dataset[[1,2]].values\n",
    "Y_Data = dataset[0].values\n",
    "\n",
    "X_train, X_test, Y_train, Y_test = train_test_split(X_Data, \n",
    "                                                    Y_Data,\n",
    "                                                    test_size = 0.2,\n",
    "                                                    random_state=1)\n",
    "\n",
    "print(\"Size of Train Data {}\".format(X_Data.shape))\n",
    "print(\"Size of Test Data {}\".format(X_test.shape))"
   ]
  },
  {
   "cell_type": "code",
   "execution_count": 4,
   "metadata": {},
   "outputs": [
    {
     "name": "stdout",
     "output_type": "stream",
     "text": [
      "One Decision Tree accracy: 0.8084905660377358\n"
     ]
    }
   ],
   "source": [
    "# Testing the performance for one DecisionTreeClassifier\n",
    "\n",
    "model = tree.DecisionTreeClassifier(max_depth = 3)\n",
    "model.fit(X_train, Y_train)\n",
    "y_predict = model.predict(X_test)\n",
    "print(\"One Decision Tree accracy: {}\".format(accuracy_score(Y_test, y_predict)))"
   ]
  },
  {
   "cell_type": "code",
   "execution_count": 5,
   "metadata": {},
   "outputs": [
    {
     "name": "stdout",
     "output_type": "stream",
     "text": [
      "current estimator accuracy: 0.814387\n",
      "current estimator accuracy: 0.657311\n",
      "current estimator accuracy: 0.662736\n",
      "current estimator accuracy: 0.576179\n",
      "current estimator accuracy: 0.712736\n",
      "current estimator accuracy: 0.643632\n",
      "current estimator accuracy: 0.635613\n",
      "current estimator accuracy: 0.626887\n",
      "current estimator accuracy: 0.475472\n",
      "current estimator accuracy: 0.629481\n"
     ]
    }
   ],
   "source": [
    "# Implement Adaboost algorithm\n",
    "\n",
    "#setting init  \n",
    "num_sample = X_train.shape[0]\n",
    "num_iterations = 10\n",
    "\n",
    "estimators_list = []\n",
    "alpha_list = []\n",
    "estimators_accuracy = []\n",
    "\n",
    "# init the data_weight \n",
    "data_weight_list = np.ones(num_sample)\n",
    "data_weight_list.fill(1/num_sample)\n",
    "\n",
    "# data_weight_list is the list use to change the data weight\n",
    "# at each iteration, we will calculte e1 (sum of the error data's weight)\n",
    "# use e1 to calculate alpha and update the data weight\n",
    "\n",
    "for i in range(num_iterations):\n",
    "    \n",
    "    # assign a new estimator\n",
    "    estimator = tree.DecisionTreeClassifier(max_depth=3)\n",
    "    \n",
    "    # training our estimator \n",
    "    estimator.fit(X_train, Y_train, sample_weight = data_weight_list)\n",
    "    \n",
    "    #predict result and calculate accuacy of current estimator\n",
    "    pred = estimator.predict(X_train)\n",
    "    acc = accuracy_score(Y_train, pred)\n",
    "    \n",
    "    #save the current accuacy \n",
    "    estimators_accuracy.append(acc)\n",
    "    print(\"current estimator accuracy: {0:5f}\".format(acc))\n",
    "    \n",
    "    # calculate the err value\n",
    "    tot_err_weight = 0\n",
    "    for i in range(num_sample):\n",
    "        if pred[i] != Y_train[i]:\n",
    "            tot_err_weight += data_weight_list[i]\n",
    "    \n",
    "    \n",
    "    # calculate alpha (the weight for estimator)\n",
    "    alpha = (np.log((1 - tot_err_weight)/tot_err_weight)) / 2\n",
    "\n",
    "    \n",
    "    # Update data weight\n",
    "    data_weight_list = data_weight_list * np.exp(- alpha * Y_train * pred)\n",
    "    data_weight_list = data_weight_list / data_weight_list.sum()\n",
    "\n",
    "\n",
    "    # save alppha and estimators\n",
    "    estimators_list.append(estimator)\n",
    "    alpha_list.append(alpha)\n",
    "\n"
   ]
  },
  {
   "cell_type": "code",
   "execution_count": 11,
   "metadata": {},
   "outputs": [
    {
     "name": "stdout",
     "output_type": "stream",
     "text": [
      "Round  1  test err: 0.808491\n",
      "Round  2  test err: 0.808491\n",
      "Round  3  test err: 0.844340\n",
      "Round  4  test err: 0.847170\n",
      "Round  5  test err: 0.848113\n",
      "Round  6  test err: 0.850000\n",
      "Round  7  test err: 0.878302\n",
      "Round  8  test err: 0.859434\n",
      "Round  9  test err: 0.891509\n",
      "Round 10  test err: 0.881132\n",
      "\n",
      "Round  1 train err: 0.814387\n",
      "Round  2 train err: 0.814387\n",
      "Round  3 train err: 0.847877\n",
      "Round  4 train err: 0.845519\n",
      "Round  5 train err: 0.856840\n",
      "Round  6 train err: 0.854481\n",
      "Round  7 train err: 0.872170\n",
      "Round  8 train err: 0.855189\n",
      "Round  9 train err: 0.883255\n",
      "Round 10 train err: 0.875943\n"
     ]
    }
   ],
   "source": [
    "# calculate test error and train error at each iteration\n",
    "num_iterations = 10\n",
    "num_sample = X_test.shape[0]\n",
    "\n",
    "train_err_rate = []\n",
    "test_err_rate = []\n",
    "\n",
    "# We use the alpha and estimator to calculate test error and train error\n",
    "\n",
    "# Y_out (predict result) = sign(  sum(alpha[0] * estimator[0] + .... alpha[i] * estimator[i])\n",
    "\n",
    "# which i stand for each iteration\n",
    "\n",
    "# calculate testing err\n",
    "for i in range(1, num_iterations+1):\n",
    "    \n",
    "    Y_out = np.zeros(X_test.shape[0])\n",
    "    for j in range(i):\n",
    "        Y_out = Y_out + alpha_list[j] * estimators_list[j].predict(X_test)\n",
    "    Y_out = np.sign(Y_out)\n",
    "    test_err_rate.append(accuracy_score(Y_test, Y_out))\n",
    "    print(\"Round {0:2d}  test err: {1:5f}\".format(i ,accuracy_score(Y_test, Y_out)))\n",
    "\n",
    "print()\n",
    "\n",
    "# calculate training err\n",
    "for i in range(1, num_iterations+1):\n",
    "    Y_out = np.zeros(X_train.shape[0])\n",
    "    for j in range(i):\n",
    "        Y_out = Y_out + alpha_list[j] * estimators_list[j].predict(X_train)\n",
    "    Y_out = np.sign(Y_out)\n",
    "    \n",
    "    train_err_rate.append(accuracy_score(Y_train, Y_out))\n",
    "    print(\"Round {0:2d} train err: {1:5f}\".format(i ,accuracy_score(Y_train, Y_out)))"
   ]
  },
  {
   "cell_type": "code",
   "execution_count": 12,
   "metadata": {},
   "outputs": [
    {
     "data": {
      "image/png": "[encoded data removed]",
      "text/plain": [
       "<Figure size 432x288 with 1 Axes>"
      ]
     },
     "metadata": {},
     "output_type": "display_data"
    }
   ],
   "source": [
    "import matplotlib.pyplot as plt\n",
    "import numpy as np\n",
    "\n",
    "xlst = list(range(1, 11))\n",
    "\n",
    "    \n",
    "plt.plot(xlst, test_err_rate, label='test acc')\n",
    "plt.plot(xlst, train_err_rate, label='train acc')\n",
    "plt.plot(xlst, estimators_accuracy, label='each estimator acc')\n",
    "\n",
    "plt.ylabel(\"Accuray\")\n",
    "plt.xlabel(\"iteration\")\n",
    "plt.title(\"Adaboost result\")\n",
    "plt.legend(loc='lower left')\n",
    "\n",
    "\n",
    "plt.show()"
   ]
  },
  {
   "cell_type": "code",
   "execution_count": null,
   "metadata": {},
   "outputs": [],
   "source": []
  }
 ],
 "metadata": {
  "kernelspec": {
   "display_name": "Python 3",
   "language": "python",
   "name": "python3"
  },
  "language_info": {
   "codemirror_mode": {
    "name": "ipython",
    "version": 3
   },
   "file_extension": ".py",
   "mimetype": "text/x-python",
   "name": "python",
   "nbconvert_exporter": "python",
   "pygments_lexer": "ipython3",
   "version": "3.6.4"
  }
 },
 "nbformat": 4,
 "nbformat_minor": 2
}
